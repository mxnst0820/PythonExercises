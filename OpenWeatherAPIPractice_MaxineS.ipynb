{
  "nbformat": 4,
  "nbformat_minor": 0,
  "metadata": {
    "colab": {
      "name": "OpenWeatherAPIPractice_MaxineS",
      "provenance": [],
      "collapsed_sections": [],
      "authorship_tag": "ABX9TyNj3iz9FL81iFwYZtrwCcbV",
      "include_colab_link": true
    },
    "kernelspec": {
      "name": "python3",
      "display_name": "Python 3"
    },
    "language_info": {
      "name": "python"
    }
  },
  "cells": [
    {
      "cell_type": "markdown",
      "metadata": {
        "id": "view-in-github",
        "colab_type": "text"
      },
      "source": [
        "<a href=\"https://colab.research.google.com/github/mxnst0820/PythonExercises/blob/main/OpenWeatherAPIPractice_MaxineS.ipynb\" target=\"_parent\"><img src=\"https://colab.research.google.com/assets/colab-badge.svg\" alt=\"Open In Colab\"/></a>"
      ]
    },
    {
      "cell_type": "code",
      "execution_count": 23,
      "metadata": {
        "colab": {
          "base_uri": "https://localhost:8080/"
        },
        "id": "jxrbsMTtk66L",
        "outputId": "925bef5a-0b57-489b-bbe7-fa1a92ef9cca"
      },
      "outputs": [
        {
          "output_type": "stream",
          "name": "stdout",
          "text": [
            "Looking in indexes: https://pypi.org/simple, https://us-python.pkg.dev/colab-wheels/public/simple/\n",
            "Requirement already satisfied: pyowm in /usr/local/lib/python3.7/dist-packages (3.3.0)\n",
            "Requirement already satisfied: PySocks<2,>=1.7.1 in /usr/local/lib/python3.7/dist-packages (from pyowm) (1.7.1)\n",
            "Requirement already satisfied: requests<3,>=2.20.0 in /usr/local/lib/python3.7/dist-packages (from pyowm) (2.23.0)\n",
            "Requirement already satisfied: geojson<3,>=2.3.0 in /usr/local/lib/python3.7/dist-packages (from pyowm) (2.5.0)\n",
            "Requirement already satisfied: idna<3,>=2.5 in /usr/local/lib/python3.7/dist-packages (from requests<3,>=2.20.0->pyowm) (2.10)\n",
            "Requirement already satisfied: urllib3!=1.25.0,!=1.25.1,<1.26,>=1.21.1 in /usr/local/lib/python3.7/dist-packages (from requests<3,>=2.20.0->pyowm) (1.24.3)\n",
            "Requirement already satisfied: certifi>=2017.4.17 in /usr/local/lib/python3.7/dist-packages (from requests<3,>=2.20.0->pyowm) (2022.6.15)\n",
            "Requirement already satisfied: chardet<4,>=3.0.2 in /usr/local/lib/python3.7/dist-packages (from requests<3,>=2.20.0->pyowm) (3.0.4)\n"
          ]
        }
      ],
      "source": [
        "!pip install pyowm\n",
        "\n",
        "from pyowm.owm import OWM\n",
        "\n",
        "myKey='40153eb96f22932a8fae15dd6c7355d1'\n",
        "owm= OWM(myKey)\n",
        "wmg=owm.weather_manager()"
      ]
    },
    {
      "cell_type": "code",
      "source": [
        "city= input('What city would you like to teleport to? ')\n",
        "country= input('what country is the city in? ')\n",
        "citycountry=city+ ', ' +country\n",
        "\n",
        "observation=wmg.weather_at_place(city)\n",
        "weather=observation.weather\n",
        "\n",
        "temperature=weather.temperature('fahrenheit')\n",
        "print(temperature)\n",
        "\n",
        "feellike=temperature.get ('feels_like')\n",
        "print(feellike)\n",
        "\n",
        "if feellike < 30:\n",
        "    print (\"You'll need a winter jackete if you want to go on a walk in\", citycountry)\n",
        "elif feellike < 50: \n",
        "    print ('You should probably grab a light jacket if you want to go on a walk in', citycountry)\n",
        "elif feellike < 70:\n",
        "    print('You may want to dress in layers if you want to go on a walk in', citycountry)\n",
        "else:\n",
        "  print('You can wear your summer outfit if you want to go on a walk in', citycountry)\n",
        "\n",
        "  #elif basically says 'skip me if any before me were true'"
      ],
      "metadata": {
        "id": "wHXuBHDnluuS"
      },
      "execution_count": null,
      "outputs": []
    }
  ]
}