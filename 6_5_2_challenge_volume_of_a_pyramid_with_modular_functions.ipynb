{
  "nbformat": 4,
  "nbformat_minor": 0,
  "metadata": {
    "colab": {
      "provenance": [],
      "authorship_tag": "ABX9TyPvuPLC0Yd8yLQy3miAwN6a",
      "include_colab_link": true
    },
    "kernelspec": {
      "name": "python3",
      "display_name": "Python 3"
    },
    "language_info": {
      "name": "python"
    }
  },
  "cells": [
    {
      "cell_type": "markdown",
      "metadata": {
        "id": "view-in-github",
        "colab_type": "text"
      },
      "source": [
        "<a href=\"https://colab.research.google.com/github/mxnst0820/PythonExercises/blob/main/6_5_2_challenge_volume_of_a_pyramid_with_modular_functions.ipynb\" target=\"_parent\"><img src=\"https://colab.research.google.com/assets/colab-badge.svg\" alt=\"Open In Colab\"/></a>"
      ]
    },
    {
      "cell_type": "code",
      "execution_count": null,
      "metadata": {
        "id": "7vhi-dMN9nnH"
      },
      "outputs": [],
      "source": [
        "#Define a function calc_pyramid_volume() with parameters base_length, base_width, and pyramid_height, that returns the volume of a pyramid with a rectangular base. calc_pyramid_volume() calls the given calc_base_area() function in the calculation.\n",
        "\n",
        "\n",
        "def calc_base_area(base_length, base_width):\n",
        "   return base_length * base_width\n",
        "\n",
        "def calc_pyramid_volume(pyr_length, pyr_width, pyr_height):\n",
        "    base = calc_base_area(pyr_length, pyr_width)\n",
        "    pyramid_vol = base * pyr_height * (1/3)\n",
        "    return pyramid_vol\n",
        "\n",
        "length = float(input())\n",
        "width = float(input())\n",
        "height = float(input())\n",
        "print('Volume for', length, width, height, \"is:\", calc_pyramid_volume(length, width, height))"
      ]
    }
  ]
}