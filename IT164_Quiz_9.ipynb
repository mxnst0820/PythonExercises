{
  "nbformat": 4,
  "nbformat_minor": 0,
  "metadata": {
    "colab": {
      "provenance": [],
      "authorship_tag": "ABX9TyOfCDSB39+UC7AQ33cW5Txl",
      "include_colab_link": true
    },
    "kernelspec": {
      "name": "python3",
      "display_name": "Python 3"
    },
    "language_info": {
      "name": "python"
    }
  },
  "cells": [
    {
      "cell_type": "markdown",
      "metadata": {
        "id": "view-in-github",
        "colab_type": "text"
      },
      "source": [
        "<a href=\"https://colab.research.google.com/github/mxnst0820/PythonExercises/blob/main/IT164_Quiz_9.ipynb\" target=\"_parent\"><img src=\"https://colab.research.google.com/assets/colab-badge.svg\" alt=\"Open In Colab\"/></a>"
      ]
    },
    {
      "cell_type": "code",
      "execution_count": null,
      "metadata": {
        "id": "mvLJnkVwllZb"
      },
      "outputs": [],
      "source": [
        "def squaredList(aList):\n",
        "    numList = list(map(int, aList.split(' '))) #Conventionally, this would be done as part of code body, not function\n",
        "    squared_nums = []\n",
        "    squared_num = 0\n",
        "    for i in numList:\n",
        "        squared_num = i ** 2\n",
        "        squared_nums.append(squared_num)\n",
        "    return squared_nums\n",
        "\n",
        "\n",
        "if __name__=='__main__':\n",
        "    user_nums = input('enter your numbers separated by a space: ')\n",
        "    user_numList = squaredList(user_nums)\n",
        "    #print(user_numList)\n",
        "    print('the numbers squared are:', end=' ')\n",
        "    for i in user_numList:\n",
        "        print(i, end=' ')"
      ]
    }
  ]
}