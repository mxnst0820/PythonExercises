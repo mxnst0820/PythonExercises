{
  "nbformat": 4,
  "nbformat_minor": 0,
  "metadata": {
    "colab": {
      "provenance": [],
      "authorship_tag": "ABX9TyOBbca3tgvONQQIpY+HpgZh",
      "include_colab_link": true
    },
    "kernelspec": {
      "name": "python3",
      "display_name": "Python 3"
    },
    "language_info": {
      "name": "python"
    }
  },
  "cells": [
    {
      "cell_type": "markdown",
      "metadata": {
        "id": "view-in-github",
        "colab_type": "text"
      },
      "source": [
        "<a href=\"https://colab.research.google.com/github/mxnst0820/PythonExercises/blob/main/6_12_1_Swap_first_and_last_items_in_list_with_function.ipynb\" target=\"_parent\"><img src=\"https://colab.research.google.com/assets/colab-badge.svg\" alt=\"Open In Colab\"/></a>"
      ]
    },
    {
      "cell_type": "code",
      "execution_count": null,
      "metadata": {
        "id": "aQXTwtsg7cdg"
      },
      "outputs": [],
      "source": [
        "def swap(values):\n",
        "    first = values_list[0]\n",
        "    last = values_list[len(values_list)-1]\n",
        "    values_list[0] = last\n",
        "    values_list[len(values_list)-1] = first \n",
        "\n",
        "values_list = input().split(',')  # Program receives comma-separated values like 5,4,12,19\n",
        "swap(values_list)\n",
        "\n",
        "print(values_list)"
      ]
    }
  ]
}