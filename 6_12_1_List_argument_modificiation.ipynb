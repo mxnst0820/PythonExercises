{
  "nbformat": 4,
  "nbformat_minor": 0,
  "metadata": {
    "colab": {
      "provenance": [],
      "authorship_tag": "ABX9TyMFEPDBSfftCdu0DOwOtbCS",
      "include_colab_link": true
    },
    "kernelspec": {
      "name": "python3",
      "display_name": "Python 3"
    },
    "language_info": {
      "name": "python"
    }
  },
  "cells": [
    {
      "cell_type": "markdown",
      "metadata": {
        "id": "view-in-github",
        "colab_type": "text"
      },
      "source": [
        "<a href=\"https://colab.research.google.com/github/mxnst0820/PythonExercises/blob/main/6_12_1_List_argument_modificiation.ipynb\" target=\"_parent\"><img src=\"https://colab.research.google.com/assets/colab-badge.svg\" alt=\"Open In Colab\"/></a>"
      ]
    },
    {
      "cell_type": "code",
      "execution_count": null,
      "metadata": {
        "id": "M61pdj7fjCb7"
      },
      "outputs": [],
      "source": [
        "def add_grade(student_grades):\n",
        "    print('Entering grade. \\n')\n",
        "    name, grade = input(grade_prompt).split()\n",
        "    student_grades[name] = grade\n",
        "\n",
        "# FIXME: Create delete_name function\n",
        "def delete_name():\n",
        "  print('Deleting grade.\\n')\n",
        "  name = input(delete_prompt)\n",
        "  del student_grades[name]\n",
        "\n",
        "# FIXME: Create print_grades function\n",
        "def print_grades():\n",
        "  print('Printing grades.\\n')\n",
        "  for name, grade in student_grades.items():\n",
        "    print(name, 'has a ', grade)\n",
        "student_grades = {}  # Create an empty dict\n",
        "grade_prompt = \"Enter name and grade (Ex. 'Bob A+'):\\n\"\n",
        "delete_prompt = \"Enter name to delete:\\n\"\n",
        "menu_prompt = (\"1. Add/modify student grade\\n\"\n",
        "                \"2. Delete student grade\\n\"\n",
        "                \"3. Print student grades\\n\"\n",
        "                \"4. Quit\\n\\n\")\n",
        "\n",
        "command = input(menu_prompt).lower().strip()\n",
        "\n",
        "while command != '4':  # Exit when user enters '4'\n",
        "    if command == '1':\n",
        "        add_grade(student_grades)\n",
        "    elif command == '2':\n",
        "        delete_name()\n",
        "    elif command == '3':\n",
        "        # FIXME: Only call print_grades() here\n",
        "        print_grades()\n",
        "    else:\n",
        "        print('Unrecognized command.\\n')\n",
        "\n",
        "    command = input().lower().strip()\n"
      ]
    }
  ]
}