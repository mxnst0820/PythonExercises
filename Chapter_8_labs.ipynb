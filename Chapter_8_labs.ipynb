{
  "nbformat": 4,
  "nbformat_minor": 0,
  "metadata": {
    "colab": {
      "provenance": [],
      "collapsed_sections": [],
      "authorship_tag": "ABX9TyNEHuah5KIgSzcysQSvwiiX",
      "include_colab_link": true
    },
    "kernelspec": {
      "name": "python3",
      "display_name": "Python 3"
    },
    "language_info": {
      "name": "python"
    }
  },
  "cells": [
    {
      "cell_type": "markdown",
      "metadata": {
        "id": "view-in-github",
        "colab_type": "text"
      },
      "source": [
        "<a href=\"https://colab.research.google.com/github/mxnst0820/PythonExercises/blob/main/Chapter_8_labs.ipynb\" target=\"_parent\"><img src=\"https://colab.research.google.com/assets/colab-badge.svg\" alt=\"Open In Colab\"/></a>"
      ]
    },
    {
      "cell_type": "markdown",
      "source": [
        "# 8.16 LAB: Varied amount of input data\n",
        "Statistics are often calculated with varying amounts of input data. Write a program that takes any number of integers as input, and outputs the average and max.\n",
        "\n",
        "\n"
      ],
      "metadata": {
        "id": "e4M_KPknS4i5"
      }
    },
    {
      "cell_type": "code",
      "execution_count": null,
      "metadata": {
        "id": "NMfBogErwc3i"
      },
      "outputs": [],
      "source": [
        "def avg_nums(nums):\n",
        "  avg = round((sum(nums) / len(nums)),0)\n",
        "  avg = int(avg)\n",
        "  return avg\n",
        "\n",
        "def max_nums(nums):\n",
        "  num_max = max(nums)\n",
        "  return num_max\n",
        "\n",
        "user_input = input()\n",
        "user_nums = list(map(int, user_input.split()))\n",
        "\n",
        "print(avg_nums(user_nums))\n",
        "print(max_nums(user_nums))"
      ]
    },
    {
      "cell_type": "markdown",
      "source": [
        "# 8.17 LAB: Filter and Sort a List\n",
        "\n",
        "Write a program that gets a list of integers from input, and outputs non-negative integers in ascending order (lowest to highest).\n",
        "\n"
      ],
      "metadata": {
        "id": "jjs6fMncSukt"
      }
    },
    {
      "cell_type": "code",
      "source": [
        "user_input = input()\n",
        "user_nums = list(map(int, user_input.split()))\n",
        "positive_nums = []\n",
        "\n",
        "for u in range(len(user_nums)):\n",
        "  if user_nums[u] > 0:\n",
        "    positive_nums.append(user_nums[u])\n",
        "\n",
        "positive_nums.sort()\n",
        "\n",
        "for p in range(len(positive_nums)):\n",
        "  print(positive_nums[p], end=' ')\n"
      ],
      "metadata": {
        "id": "8yGEvYxK2uIf"
      },
      "execution_count": null,
      "outputs": []
    },
    {
      "cell_type": "markdown",
      "source": [
        "# **8.18 LAB: Elements in a range**\n",
        "Write a program that first gets a list of integers from input. That list is followed by two more integers representing lower and upper bounds of a range. Your program should output all integers from the list that are within that range (inclusive of the bounds).\n",
        "\n",
        "Ex: If the input is:\n",
        "\n",
        "  25 51 0 200 33\n",
        "  \n",
        "  0 50\n",
        "\n",
        "\n",
        "the output is:\n",
        "\n",
        "25 0 33 \n",
        "\n",
        "The bounds are 0-50, so 51 and 200 are out of range and thus not output.\n",
        "\n",
        "For coding simplicity, follow each output integer by a space, even the last one. Do not end with newline."
      ],
      "metadata": {
        "id": "sAeWvoXlQspU"
      }
    },
    {
      "cell_type": "code",
      "source": [
        "user_input = input()\n",
        "user_nums = list(map(int, user_input.split()))\n",
        "bound_input = input()\n",
        "bound_nums = list(map(int, bound_input.split()))\n",
        "bound_nums.sort()\n",
        "final_nums = []\n",
        "\n",
        "for u in range(len(user_nums)):\n",
        "  if  user_nums[u] >= bound_nums[0] and user_nums[u] <= bound_nums[1]:\n",
        "    final_nums.append(user_nums[u])\n",
        "\n",
        "\n",
        "for p in range(len(final_nums)):\n",
        "  print(final_nums[p], end=' ')"
      ],
      "metadata": {
        "id": "10k20H365lmV"
      },
      "execution_count": null,
      "outputs": []
    },
    {
      "cell_type": "markdown",
      "source": [
        "# **8.20 LAB: Car wash**\n",
        "Write a program to calculate the total price for car wash services. A base car wash is $10. A dictionary with each additional service and the corresponding cost has been provided. Two additional services can be selected. A '-' signifies an additional service was not selected. Output all selected services, according to the input order, along with the corresponding costs and then the total price for all car wash services.\n",
        "\n"
      ],
      "metadata": {
        "id": "-JOb-KaHQck5"
      }
    },
    {
      "cell_type": "code",
      "source": [
        "services = { 'Air freshener' : 1 , 'Rain repellent': 2, 'Tire shine' : 2, 'Wax' : 3, 'Vacuum' : 5 }\n",
        "base_wash = 10\n",
        "total = 0\n",
        "\n",
        "\n",
        "service_choice1 = input()\n",
        "service_choice2 = input()\n",
        "\n",
        "print('ZyCar Wash')\n",
        "print(f'Base car wash -- ${base_wash}')\n",
        "total += base_wash\n",
        "if service_choice1 != '-':\n",
        "  print(f'{service_choice1} -- ${services.get(service_choice1)}')\n",
        "  total += services.get(service_choice1)\n",
        "if service_choice2 != '-':\n",
        "  print(f'{service_choice2} -- ${services.get(service_choice2)}')\n",
        "  total += services.get(service_choice2)\n",
        "\n",
        "print('----')\n",
        "print(f'Total price: ${total}')"
      ],
      "metadata": {
        "id": "g4dBykAYQqZZ"
      },
      "execution_count": null,
      "outputs": []
    },
    {
      "cell_type": "markdown",
      "source": [
        "# **8.21.1 Lab: Check if list is sorted**\n",
        "\n",
        "Write the in_order() function, which has a list of integers as a parameter, and returns True if the integers are sorted (in order from low to high) or False otherwise. The program outputs \"In order\" if the list is sorted, or \"Not in order\" if the list is not sorted.\n",
        "\n"
      ],
      "metadata": {
        "id": "IsEJfmIJT45W"
      }
    },
    {
      "cell_type": "code",
      "source": [
        "def in_order(nums):\n",
        "    min_num = 0\n",
        "    is_in_order = True\n",
        "    for n in range(len(nums)):\n",
        "      if nums[n] == None:\n",
        "        min_num = nums[n]\n",
        "        is_in_order = True\n",
        "      elif nums[n] >= min_num:\n",
        "        min_num = nums[n]\n",
        "        is_in_order = True\n",
        "      else:\n",
        "        is_in_order = False\n",
        "        break\n",
        "    return is_in_order\n",
        "\n",
        "    \n",
        "if __name__ == '__main__':\n",
        "    # Test out-of-order example\n",
        "    nums1 = [5, 6, 7, 8, 3]\n",
        "    if in_order(nums1):\n",
        "        print('In order')\n",
        "    else:\n",
        "        print('Not in order')\n",
        "        \n",
        "    # Test in-order example\n",
        "    nums2 = [5, 6, 7, 8, 10]\n",
        "    if in_order(nums2):\n",
        "        print('In order')\n",
        "    else:\n",
        "        print('Not in order')"
      ],
      "metadata": {
        "id": "XOnKo5VCT_N-"
      },
      "execution_count": null,
      "outputs": []
    }
  ]
}