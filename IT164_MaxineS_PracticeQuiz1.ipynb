{
  "nbformat": 4,
  "nbformat_minor": 0,
  "metadata": {
    "colab": {
      "provenance": [],
      "authorship_tag": "ABX9TyMoz9oPM++RIezRzaTOdsh4",
      "include_colab_link": true
    },
    "kernelspec": {
      "name": "python3",
      "display_name": "Python 3"
    },
    "language_info": {
      "name": "python"
    }
  },
  "cells": [
    {
      "cell_type": "markdown",
      "metadata": {
        "id": "view-in-github",
        "colab_type": "text"
      },
      "source": [
        "<a href=\"https://colab.research.google.com/github/mxnst0820/PythonExercises/blob/main/IT164_MaxineS_PracticeQuiz1.ipynb\" target=\"_parent\"><img src=\"https://colab.research.google.com/assets/colab-badge.svg\" alt=\"Open In Colab\"/></a>"
      ]
    },
    {
      "cell_type": "code",
      "source": [
        "print(\"Hello World!\")"
      ],
      "metadata": {
        "id": "PuEKKQD5SNIZ"
      },
      "execution_count": null,
      "outputs": []
    },
    {
      "cell_type": "code",
      "execution_count": null,
      "metadata": {
        "id": "axNugIYCQS2j"
      },
      "outputs": [],
      "source": [
        "yourname=input()\n",
        "print(yourname, end=' ')\n",
        "print('Welcome')"
      ]
    },
    {
      "cell_type": "code",
      "source": [
        "#Question 1\n",
        "\n",
        "rectangleWidth=float(input('What is the width of the rectangle in inches? '))\n",
        "rectangleLength=float(input('What is the width of the rectangle in inches? '))\n",
        "\n",
        "rectanglePeri=2*(rectangleWidth+rectangleLength)\n",
        "rectangleArea=rectangleWidth * rectangleLength\n",
        "rectangleArea=round(rectangleArea, 2)\n",
        "print('The perimeter of a rectangle', rectangleWidth, 'inches wide and', rectangleLength, 'inches long is', rectanglePeri, 'inches, and the area is', rectangleArea, 'square inches.')"
      ],
      "metadata": {
        "id": "o8_4K_zyT3Sr"
      },
      "execution_count": null,
      "outputs": []
    },
    {
      "cell_type": "code",
      "source": [
        "#Question 2\n",
        "import math\n",
        "\n",
        "weightLBS=float(input('Your weight in lbs: '))\n",
        "heightIN=float(input('Your height in inches: '))\n",
        "userBMI=(weightLBS/math.pow(heightIN, 2)) * 703\n",
        "print('With a weight of {:.1f} pounds and height of {:.1f}, your BMI is {:.2f}.' .format(weightLBS, heightIN, userBMI))\n"
      ],
      "metadata": {
        "id": "Bla2twWdZA8x"
      },
      "execution_count": null,
      "outputs": []
    }
  ]
}