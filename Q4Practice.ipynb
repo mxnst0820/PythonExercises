{
  "nbformat": 4,
  "nbformat_minor": 0,
  "metadata": {
    "colab": {
      "provenance": [],
      "collapsed_sections": [],
      "authorship_tag": "ABX9TyOiaU5EGXlrDHWUcpzf8R41",
      "include_colab_link": true
    },
    "kernelspec": {
      "name": "python3",
      "display_name": "Python 3"
    },
    "language_info": {
      "name": "python"
    }
  },
  "cells": [
    {
      "cell_type": "markdown",
      "metadata": {
        "id": "view-in-github",
        "colab_type": "text"
      },
      "source": [
        "<a href=\"https://colab.research.google.com/github/mxnst0820/PythonExercises/blob/main/Q4Practice.ipynb\" target=\"_parent\"><img src=\"https://colab.research.google.com/assets/colab-badge.svg\" alt=\"Open In Colab\"/></a>"
      ]
    },
    {
      "cell_type": "code",
      "execution_count": null,
      "metadata": {
        "id": "_OODE-W2j7yw"
      },
      "outputs": [],
      "source": [
        "user_num = 0\n",
        "numList = []\n",
        "evenNums = []\n",
        "oddNums = []\n",
        "\n",
        "for i in range(10):\n",
        "    user_num = int(input('Provide a whole number: '))\n",
        "    numList.append(user_num)\n",
        "    \n",
        "for x in range(len(numList)):\n",
        "    if numList[x] % 2 == 0:\n",
        "        evenNums.append(numList[x])\n",
        "    elif numList[x] % 2 == 1:\n",
        "        oddNums.append(numList[x])\n",
        "        \n",
        "print('You have entered these odd numbers:')\n",
        "for o in range(len(oddNums)):\n",
        "    print(oddNums[o], end=' ')\n",
        "    \n",
        "print(f'and they add up to be {sum(oddNums)}')\n",
        "\n",
        "print('You have entered these even numbers:')\n",
        "for e in range(len(evenNums)):\n",
        "    print(evenNums[e], end=' ')\n",
        "    \n",
        "print(f'and they add up to be {sum(evenNums)}')"
      ]
    },
    {
      "cell_type": "code",
      "source": [
        "#Other, more efficient method\n",
        "#this cuts out need for full list of all provided numbers\n",
        "#however, in practice, a full list could very well be useful in practice\n",
        "\n",
        "user_num = 0\n",
        "evenNums = []\n",
        "oddNums = []\n",
        "    \n",
        "for x in range(len(numList)):\n",
        "    user_num = int(input('Provide a whole number: '))\n",
        "    if user_num % 2 == 0:\n",
        "        evenNums.append(user_num)\n",
        "    elif user_num % 2 == 1:\n",
        "        oddNums.append(user_num)\n",
        "        \n",
        "print('You have entered these odd numbers:')\n",
        "for o in range(len(oddNums)):\n",
        "    print(oddNums[o], end=' ')\n",
        "    \n",
        "print(f'and they add up to be {sum(oddNums)}')\n",
        "\n",
        "print('You have entered these even numbers:')\n",
        "for e in range(len(evenNums)):\n",
        "    print(evenNums[e], end=' ')\n",
        "    \n",
        "print(f'and they add up to be {sum(evenNums)}')"
      ],
      "metadata": {
        "id": "qtQQ_kS9lMbD"
      },
      "execution_count": null,
      "outputs": []
    }
  ]
}