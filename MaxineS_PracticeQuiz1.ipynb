{
  "nbformat": 4,
  "nbformat_minor": 0,
  "metadata": {
    "colab": {
      "provenance": [],
      "authorship_tag": "ABX9TyMoz9oPM++RIezRzaTOdsh4",
      "include_colab_link": true
    },
    "kernelspec": {
      "name": "python3",
      "display_name": "Python 3"
    },
    "language_info": {
      "name": "python"
    }
  },
  "cells": [
    {
      "cell_type": "markdown",
      "metadata": {
        "id": "view-in-github",
        "colab_type": "text"
      },
      "source": [
        "<a href=\"https://colab.research.google.com/github/mxnst0820/PythonExercises/blob/main/MaxineS_PracticeQuiz1.ipynb\" target=\"_parent\"><img src=\"https://colab.research.google.com/assets/colab-badge.svg\" alt=\"Open In Colab\"/></a>"
      ]
    },
    {
      "cell_type": "code",
      "source": [
        "print(\"Hello World!\")"
      ],
      "metadata": {
        "colab": {
          "base_uri": "https://localhost:8080/"
        },
        "id": "PuEKKQD5SNIZ",
        "outputId": "69984d8a-0b24-4f99-c8ff-eadc12db5f49"
      },
      "execution_count": null,
      "outputs": [
        {
          "output_type": "stream",
          "name": "stdout",
          "text": [
            "Hello World!\n"
          ]
        }
      ]
    },
    {
      "cell_type": "code",
      "execution_count": null,
      "metadata": {
        "colab": {
          "base_uri": "https://localhost:8080/"
        },
        "id": "axNugIYCQS2j",
        "outputId": "799a9880-e218-4be7-ccd3-07e81a3bbc25"
      },
      "outputs": [
        {
          "output_type": "stream",
          "name": "stdout",
          "text": [
            "Maxine\n",
            "Maxine , Welcome\n"
          ]
        }
      ],
      "source": [
        "yourname=input()\n",
        "print(yourname, end=' ')\n",
        "print('Welcome')"
      ]
    },
    {
      "cell_type": "code",
      "source": [
        "#Question 1\n",
        "\n",
        "rectangleWidth=float(input('What is the width of the rectangle in inches? '))\n",
        "rectangleLength=float(input('What is the width of the rectangle in inches? '))\n",
        "\n",
        "rectanglePeri=2*(rectangleWidth+rectangleLength)\n",
        "rectangleArea=rectangleWidth * rectangleLength\n",
        "rectangleArea=round(rectangleArea, 2)\n",
        "print('The perimeter of a rectangle', rectangleWidth, 'inches wide and', rectangleLength, 'inches long is', rectanglePeri, 'inches, and the area is', rectangleArea, 'square inches.')"
      ],
      "metadata": {
        "colab": {
          "base_uri": "https://localhost:8080/"
        },
        "id": "o8_4K_zyT3Sr",
        "outputId": "5871b622-1e46-4bd8-aafb-321b809e2218"
      },
      "execution_count": null,
      "outputs": [
        {
          "output_type": "stream",
          "name": "stdout",
          "text": [
            "What is the width of the rectangle in inches? 3.2\n",
            "What is the width of the rectangle in inches? 8.3\n",
            "The perimeter of a rectangle 3.2 inches wide and 8.3 inches long is 23.0 inches, and the area is 26.56 square inches.\n"
          ]
        }
      ]
    },
    {
      "cell_type": "code",
      "source": [
        "#Question 2\n",
        "import math\n",
        "\n",
        "weightLBS=float(input('Your weight in lbs: '))\n",
        "heightIN=float(input('Your height in inches: '))\n",
        "userBMI=(weightLBS/math.pow(heightIN, 2)) * 703\n",
        "print('With a weight of {:.1f} pounds and height of {:.1f}, your BMI is {:.2f}.' .format(weightLBS, heightIN, userBMI))\n"
      ],
      "metadata": {
        "id": "Bla2twWdZA8x",
        "colab": {
          "base_uri": "https://localhost:8080/"
        },
        "outputId": "b80b5c99-6c55-4fc1-96c9-d63f15741bd7"
      },
      "execution_count": 42,
      "outputs": [
        {
          "output_type": "stream",
          "name": "stdout",
          "text": [
            "Your weight in lbs: 112\n",
            "Your height in inches: 67\n",
            "With a weight of 112.0 pounds and height of 67.0, your BMI is 17.54.\n"
          ]
        }
      ]
    }
  ]
}