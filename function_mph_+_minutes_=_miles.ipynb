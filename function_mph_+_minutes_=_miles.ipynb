{
  "nbformat": 4,
  "nbformat_minor": 0,
  "metadata": {
    "colab": {
      "provenance": [],
      "authorship_tag": "ABX9TyMziNamWsKSih/Fx+miIO8X",
      "include_colab_link": true
    },
    "kernelspec": {
      "name": "python3",
      "display_name": "Python 3"
    },
    "language_info": {
      "name": "python"
    }
  },
  "cells": [
    {
      "cell_type": "markdown",
      "metadata": {
        "id": "view-in-github",
        "colab_type": "text"
      },
      "source": [
        "<a href=\"https://colab.research.google.com/github/mxnst0820/PythonExercises/blob/main/function_mph_%2B_minutes_%3D_miles.ipynb\" target=\"_parent\"><img src=\"https://colab.research.google.com/assets/colab-badge.svg\" alt=\"Open In Colab\"/></a>"
      ]
    },
    {
      "cell_type": "code",
      "execution_count": null,
      "metadata": {
        "id": "YL1Yt3F0kU0C"
      },
      "outputs": [],
      "source": [
        "def mph_and_minutes_to_miles(mph, min_trav):\n",
        "    hours_traveled = min_trav / 60.0\n",
        "    miles_traveled = hours_traveled * mph\n",
        "    return miles_traveled\n",
        "\n",
        "miles_per_hour = float(input())\n",
        "minutes_traveled = float(input())\n",
        "\n",
        "print(f'Miles: {mph_and_minutes_to_miles(miles_per_hour, minutes_traveled):f}')"
      ]
    }
  ]
}