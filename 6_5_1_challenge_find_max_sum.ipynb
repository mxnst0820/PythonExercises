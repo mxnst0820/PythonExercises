{
  "nbformat": 4,
  "nbformat_minor": 0,
  "metadata": {
    "colab": {
      "provenance": [],
      "authorship_tag": "ABX9TyP26rSh1Hov4aQc28tnrf7k",
      "include_colab_link": true
    },
    "kernelspec": {
      "name": "python3",
      "display_name": "Python 3"
    },
    "language_info": {
      "name": "python"
    }
  },
  "cells": [
    {
      "cell_type": "markdown",
      "metadata": {
        "id": "view-in-github",
        "colab_type": "text"
      },
      "source": [
        "<a href=\"https://colab.research.google.com/github/mxnst0820/PythonExercises/blob/main/6_5_1_challenge_find_max_sum.ipynb\" target=\"_parent\"><img src=\"https://colab.research.google.com/assets/colab-badge.svg\" alt=\"Open In Colab\"/></a>"
      ]
    },
    {
      "cell_type": "code",
      "execution_count": null,
      "metadata": {
        "id": "K2B6Fjjr6ZAe"
      },
      "outputs": [],
      "source": [
        "#6.5.1 Challenge\n",
        "#Assign max_sum with the greater of num_a and num_b, PLUS the greater of num_y and num_z. Use just one statement. Hint: Call find_max() twice in an expression.\n",
        "\n",
        "\n",
        "def find_max(num_1, num_2):\n",
        "   max_val = 0.0\n",
        "\n",
        "   if (num_1 > num_2):  # if num1 is greater than num2,\n",
        "      max_val = num_1   # then num1 is the maxVal.\n",
        "   else:                # Otherwise,\n",
        "      max_val = num_2   # num2 is the maxVal\n",
        "   return max_val\n",
        "\n",
        "max_sum = 0.0\n",
        "\n",
        "num_a = float(input())\n",
        "num_b = float(input())\n",
        "num_y = float(input())\n",
        "num_z = float(input())\n",
        "\n",
        "max_sum = find_max(num_a, num_b) + find_max(num_y, num_z)\n",
        "\n",
        "print('max_sum is:', max_sum)"
      ]
    }
  ]
}